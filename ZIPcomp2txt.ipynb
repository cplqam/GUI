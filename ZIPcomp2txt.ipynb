{
 "cells": [
  {
   "cell_type": "code",
   "execution_count": 3,
   "id": "4ed07989",
   "metadata": {},
   "outputs": [],
   "source": [
    "import zipfile"
   ]
  },
  {
   "cell_type": "markdown",
   "id": "70f7615a",
   "metadata": {},
   "source": [
    "# Parameters\n",
    "\n",
    "This function extracts the information from the HMDB msms spectra compresed files without the decompression step and copy this information in a txt.\n",
    "The input *input_dir* is the path of the HMDB **.zip** file and the *output_dir* is the output path\n",
    "\n",
    "The *start_file* variable is the index of the inicial spectrum and the *end_file* is the last one. \n",
    "\n",
    "**In the predicted spectra file, there are more than 1.5 million spectra, therefore is recomended to run this script with intervals of spectra. Remember that it is a Python index (from 0 to n-1)**  \n",
    "The 2nd cell can be run to know the number of spectra and rerun the 1st one to change the *start_file* and *end_file* values"
   ]
  },
  {
   "cell_type": "code",
   "execution_count": 1,
   "id": "17729ea3",
   "metadata": {},
   "outputs": [],
   "source": [
    "input_dir = 'hmdb_predicted_msms_spectra.zip'\n",
    "output_dir = \"HMDB_300_600.txt\"\n"
   ]
  },
  {
   "cell_type": "code",
   "execution_count": 2,
   "id": "ae7d50f5",
   "metadata": {},
   "outputs": [
    {
     "ename": "NameError",
     "evalue": "name 'zipfile' is not defined",
     "output_type": "error",
     "traceback": [
      "\u001b[1;31m---------------------------------------------------------------------------\u001b[0m",
      "\u001b[1;31mNameError\u001b[0m                                 Traceback (most recent call last)",
      "\u001b[1;32m~\\AppData\\Local\\Temp\\ipykernel_35452\\1348819856.py\u001b[0m in \u001b[0;36m<cell line: 1>\u001b[1;34m()\u001b[0m\n\u001b[1;32m----> 1\u001b[1;33m \u001b[1;32mwith\u001b[0m \u001b[0mzipfile\u001b[0m\u001b[1;33m.\u001b[0m\u001b[0mZipFile\u001b[0m\u001b[1;33m(\u001b[0m\u001b[0minput_dir\u001b[0m\u001b[1;33m,\u001b[0m \u001b[1;34m'r'\u001b[0m\u001b[1;33m)\u001b[0m \u001b[1;32mas\u001b[0m \u001b[0mzip_ref\u001b[0m\u001b[1;33m:\u001b[0m\u001b[1;33m\u001b[0m\u001b[1;33m\u001b[0m\u001b[0m\n\u001b[0m\u001b[0;32m      2\u001b[0m     \u001b[1;31m# Obtener la lista de archivos dentro de la carpeta comprimida\u001b[0m\u001b[1;33m\u001b[0m\u001b[1;33m\u001b[0m\u001b[0m\n\u001b[0;32m      3\u001b[0m     \u001b[0mfile_list\u001b[0m \u001b[1;33m=\u001b[0m \u001b[0mzip_ref\u001b[0m\u001b[1;33m.\u001b[0m\u001b[0minfolist\u001b[0m\u001b[1;33m(\u001b[0m\u001b[1;33m)\u001b[0m\u001b[1;33m\u001b[0m\u001b[1;33m\u001b[0m\u001b[0m\n\u001b[0;32m      4\u001b[0m \u001b[1;33m\u001b[0m\u001b[0m\n\u001b[0;32m      5\u001b[0m     \u001b[1;31m# Imprimir el número de archivos en la carpeta comprimida\u001b[0m\u001b[1;33m\u001b[0m\u001b[1;33m\u001b[0m\u001b[0m\n",
      "\u001b[1;31mNameError\u001b[0m: name 'zipfile' is not defined"
     ]
    }
   ],
   "source": [
    "with zipfile.ZipFile(input_dir, 'r') as zip_ref:\n",
    "    # Obtener la lista de archivos dentro de la carpeta comprimida\n",
    "    file_list = zip_ref.infolist()\n",
    "\n",
    "    # Imprimir el número de archivos en la carpeta comprimida\n",
    "    print(\"Number of files in compressed folder:\", len(file_list))"
   ]
  },
  {
   "cell_type": "code",
   "execution_count": 6,
   "id": "5a86c0bf",
   "metadata": {},
   "outputs": [],
   "source": [
    "start_file = 300000\n",
    "end_file = 600000"
   ]
  },
  {
   "cell_type": "code",
   "execution_count": 7,
   "id": "18ff6ecb",
   "metadata": {},
   "outputs": [],
   "source": [
    "def extract_ms2(name,start,end):\n",
    "    with open(output_dir, \"a\") as txt_file:\n",
    "        t = 0\n",
    "        for file in name[start:end]:\n",
    "            with zip_ref.open(file) as file:\n",
    "                content = file.read().decode('utf-8')\n",
    "                for line in content.split('\\n'):\n",
    "                    line2 = line.replace('>', '<').split('<')\n",
    "                    if len(line2) >= 2:\n",
    "                        if line2[1] == 'ms-ms' or line[2] == 'chromatography-type' or line2[1] == 'database-id' or line2[1] == 'collision-energy-voltage' or line2[1] =='ionization-mode' or line2[1] == 'adduct' or line2[1] == 'adduct-type' or line2[1] == 'adduct-mass' or line2[1] == 'mass-charge' or line2[1] == 'intensity' or line2[1] == '/ms-ms-peaks':\n",
    "                            txt_file.write(line + '\\n')\n",
    "                        \n",
    "            t += 1\n",
    "            if t%10000 == 0:\n",
    "                print(t)"
   ]
  },
  {
   "cell_type": "code",
   "execution_count": 8,
   "id": "0c41be35",
   "metadata": {},
   "outputs": [
    {
     "name": "stdout",
     "output_type": "stream",
     "text": [
      "Number of files obtained\n",
      "10000\n",
      "20000\n",
      "30000\n",
      "40000\n",
      "50000\n",
      "60000\n",
      "70000\n",
      "80000\n",
      "90000\n",
      "100000\n",
      "110000\n",
      "120000\n",
      "130000\n",
      "140000\n",
      "150000\n",
      "160000\n",
      "170000\n",
      "180000\n",
      "190000\n",
      "200000\n",
      "210000\n",
      "220000\n",
      "230000\n",
      "240000\n",
      "250000\n",
      "260000\n",
      "270000\n",
      "280000\n",
      "290000\n",
      "300000\n"
     ]
    }
   ],
   "source": [
    "with zipfile.ZipFile(input_dir, 'r') as zip_ref:\n",
    "    file_infos = zip_ref.infolist()\n",
    "    print('Number of files obtained')\n",
    "    extract_ms2(file_list,start_file,end_file)\n",
    "    \n",
    "    "
   ]
  }
 ],
 "metadata": {
  "kernelspec": {
   "display_name": "Python 3 (ipykernel)",
   "language": "python",
   "name": "python3"
  },
  "language_info": {
   "codemirror_mode": {
    "name": "ipython",
    "version": 3
   },
   "file_extension": ".py",
   "mimetype": "text/x-python",
   "name": "python",
   "nbconvert_exporter": "python",
   "pygments_lexer": "ipython3",
   "version": "3.10.7"
  }
 },
 "nbformat": 4,
 "nbformat_minor": 5
}
